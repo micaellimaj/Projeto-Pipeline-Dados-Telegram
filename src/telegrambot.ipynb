{
 "cells": [
  {
   "cell_type": "code",
   "execution_count": 22,
   "metadata": {},
   "outputs": [],
   "source": [
    "from dotenv import load_dotenv\n",
    "import os\n",
    "import requests\n",
    "import json\n",
    "import pandas as pd\n",
    "import matplotlib.pyplot as plt\n",
    "import numpy\n",
    "from datetime import datetime"
   ]
  },
  {
   "cell_type": "code",
   "execution_count": 26,
   "metadata": {},
   "outputs": [
    {
     "data": {
      "text/plain": [
       "True"
      ]
     },
     "execution_count": 26,
     "metadata": {},
     "output_type": "execute_result"
    }
   ],
   "source": [
    "load_dotenv()\n"
   ]
  },
  {
   "cell_type": "code",
   "execution_count": null,
   "metadata": {},
   "outputs": [],
   "source": [
    "class TelegramBot:\n",
    "    def __init__(self):\n",
    "        self.TOKEN = os.getenv(\"API_KEY\")\n",
    "        self.url = f\"https://api.telegram.org/bot{self.TOKEN}/\"\n",
    "\n",
    "    def start(self):\n",
    "        update_id = None\n",
    "        while True:\n",
    "            update = self.get_message(update_id)\n",
    "            messages = update.get('result', [])\n",
    "            if messages:\n",
    "                for message in messages:\n",
    "                    try:\n",
    "                        update_id = message['update_id']\n",
    "                        chat_id = message['message']['chat']['id']  # Corrigido: use 'chat' em vez de 'from'\n",
    "                        message_text = message['message']['text']\n",
    "                        answer_bot = self.create_answer(message_text)\n",
    "                        self.send_answer(chat_id, answer_bot)\n",
    "                    except Exception as e:\n",
    "                        print(f\"Erro ao processar mensagem: {e}\")\n",
    "\n",
    "    def get_message(self, update_id):\n",
    "        link_request = f\"{self.url}getUpdates?timeout=1000\"\n",
    "        if update_id:\n",
    "            link_request += f\"&offset={update_id + 1}\"  # Corrigido: adicionado '&'\n",
    "        result = requests.get(link_request)\n",
    "        return result.json()\n",
    "\n",
    "    def create_answer(self, message_text):\n",
    "        # Adapte esta função conforme necessário para gerar uma resposta com base na mensagem recebida\n",
    "        return \"Ola, tudo bem?\"\n",
    "\n",
    "    def send_answer(self, chat_id, answer):\n",
    "        link_to_send = f\"{self.url}sendMessage?chat_id={chat_id}&text={answer}\"\n",
    "        requests.get(link_to_send)\n",
    "\n",
    "# Crie uma instância da classe TelegramBot\n",
    "bot = TelegramBot()\n",
    "\n",
    "# Chame o método 'start' na instância do bot\n",
    "bot.start()\n"
   ]
  },
  {
   "cell_type": "code",
   "execution_count": null,
   "metadata": {},
   "outputs": [],
   "source": [
    "dados = pd.read_csv(\"../data/raw/healthcare_dataset.csv\")\n",
    "dados.head()"
   ]
  },
  {
   "cell_type": "code",
   "execution_count": null,
   "metadata": {},
   "outputs": [],
   "source": [
    "dados.info()"
   ]
  },
  {
   "cell_type": "code",
   "execution_count": null,
   "metadata": {},
   "outputs": [],
   "source": []
  },
  {
   "cell_type": "code",
   "execution_count": null,
   "metadata": {},
   "outputs": [],
   "source": [
    "dados[\"Date of Admission\"].min()\n",
    "dados[\"Date of Admission\"].max()"
   ]
  },
  {
   "cell_type": "code",
   "execution_count": null,
   "metadata": {},
   "outputs": [],
   "source": [
    "medical = dados['Medical Condition'].value_counts().index\n",
    "medical_values = dados['Medical Condition'].value_counts()\n",
    "\n",
    "plt.bar(medical, medical_values)\n",
    "plt.xlabel(\"condição médica\")\n",
    "plt.ylabel(\"distribuição de valores\")\n",
    "plt.title(\"Distribução dos valores de acordo com a condição médica\")"
   ]
  },
  {
   "cell_type": "code",
   "execution_count": null,
   "metadata": {},
   "outputs": [],
   "source": [
    "gender = dados.groupby(['Gender']).mean()[\"Billing Amount\"].index\n",
    "gender_mean = dados.groupby(['Gender']).mean()[\"Billing Amount\"]"
   ]
  },
  {
   "cell_type": "code",
   "execution_count": null,
   "metadata": {},
   "outputs": [],
   "source": [
    "\n",
    "plt.bar(gender, gender_mean)\n",
    "plt.xlabel(\"Sexo\")\n",
    "plt.ylabel(\"Média de valor de cobrança\")\n",
    "plt.title(\"Média valor de cobrança por sexo\")"
   ]
  }
 ],
 "metadata": {
  "kernelspec": {
   "display_name": "Python 3",
   "language": "python",
   "name": "python3"
  },
  "language_info": {
   "codemirror_mode": {
    "name": "ipython",
    "version": 3
   },
   "file_extension": ".py",
   "mimetype": "text/x-python",
   "name": "python",
   "nbconvert_exporter": "python",
   "pygments_lexer": "ipython3",
   "version": "3.11.2"
  }
 },
 "nbformat": 4,
 "nbformat_minor": 2
}
